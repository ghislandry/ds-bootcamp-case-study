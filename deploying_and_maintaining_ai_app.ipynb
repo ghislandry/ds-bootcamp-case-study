{
 "cells": [
  {
   "cell_type": "code",
   "execution_count": 1,
   "metadata": {},
   "outputs": [],
   "source": [
    "import pandas as pd\n",
    "import numpy as np\n",
    "from process_data import pre_process_data\n",
    "from sklearn.base import BaseEstimator, TransformerMixin\n",
    "from sklearn.feature_extraction import DictVectorizer\n",
    "from sklearn.linear_model import LogisticRegression\n",
    "from sklearn.metrics import plot_confusion_matrix, confusion_matrix\n",
    "\n",
    "from sklearn.preprocessing import StandardScaler\n",
    "\n",
    "import matplotlib.pyplot as plt\n",
    "np.random.seed(10) # Set a seed to make our results reproducible"
   ]
  },
  {
   "cell_type": "markdown",
   "metadata": {},
   "source": [
    "### Undertanding the data"
   ]
  },
  {
   "cell_type": "code",
   "execution_count": 2,
   "metadata": {},
   "outputs": [
    {
     "name": "stdout",
     "output_type": "stream",
     "text": [
      "(600, 11)\n"
     ]
    },
    {
     "data": {
      "text/html": [
       "<div>\n",
       "<style scoped>\n",
       "    .dataframe tbody tr th:only-of-type {\n",
       "        vertical-align: middle;\n",
       "    }\n",
       "\n",
       "    .dataframe tbody tr th {\n",
       "        vertical-align: top;\n",
       "    }\n",
       "\n",
       "    .dataframe thead th {\n",
       "        text-align: right;\n",
       "    }\n",
       "</style>\n",
       "<table border=\"1\" class=\"dataframe\">\n",
       "  <thead>\n",
       "    <tr style=\"text-align: right;\">\n",
       "      <th></th>\n",
       "      <th>Account Balance</th>\n",
       "      <th>Payment Status</th>\n",
       "      <th>Savings/Stock Value</th>\n",
       "      <th>Employment Length</th>\n",
       "      <th>Sex &amp; Marital Status</th>\n",
       "      <th>NumberCredits</th>\n",
       "      <th>Guarantors</th>\n",
       "      <th>Concurrent Credits</th>\n",
       "      <th>Purpose</th>\n",
       "      <th>AgeGroups</th>\n",
       "      <th>Creditability</th>\n",
       "    </tr>\n",
       "  </thead>\n",
       "  <tbody>\n",
       "    <tr>\n",
       "      <th>0</th>\n",
       "      <td>SomeBalance</td>\n",
       "      <td>NoProblem</td>\n",
       "      <td>NoSavings</td>\n",
       "      <td>OneToFour</td>\n",
       "      <td>MaleSingle</td>\n",
       "      <td>OnePlus</td>\n",
       "      <td>No</td>\n",
       "      <td>NoCredit</td>\n",
       "      <td>UsedCar</td>\n",
       "      <td>MidAgeAdult</td>\n",
       "      <td>Good</td>\n",
       "    </tr>\n",
       "    <tr>\n",
       "      <th>1</th>\n",
       "      <td>SomeBalance</td>\n",
       "      <td>PaidUp</td>\n",
       "      <td>NoSavings</td>\n",
       "      <td>AboveSevent</td>\n",
       "      <td>MaleMarried</td>\n",
       "      <td>One</td>\n",
       "      <td>No</td>\n",
       "      <td>NoCredit</td>\n",
       "      <td>HouseRelated</td>\n",
       "      <td>MidAgeAdult</td>\n",
       "      <td>Good</td>\n",
       "    </tr>\n",
       "    <tr>\n",
       "      <th>2</th>\n",
       "      <td>NoBalance</td>\n",
       "      <td>NoProblem</td>\n",
       "      <td>NoSavings</td>\n",
       "      <td>BellowOneYear</td>\n",
       "      <td>MaleMarried</td>\n",
       "      <td>OnePlus</td>\n",
       "      <td>No</td>\n",
       "      <td>NoCredit</td>\n",
       "      <td>NewCar</td>\n",
       "      <td>MidAgeAdult</td>\n",
       "      <td>Good</td>\n",
       "    </tr>\n",
       "    <tr>\n",
       "      <th>3</th>\n",
       "      <td>NoBalance</td>\n",
       "      <td>NoProblem</td>\n",
       "      <td>BellowHundred</td>\n",
       "      <td>FourToSevent</td>\n",
       "      <td>MaleMarried</td>\n",
       "      <td>One</td>\n",
       "      <td>No</td>\n",
       "      <td>NoCredit</td>\n",
       "      <td>Other</td>\n",
       "      <td>MidAgeAdult</td>\n",
       "      <td>Good</td>\n",
       "    </tr>\n",
       "    <tr>\n",
       "      <th>4</th>\n",
       "      <td>SomeBalance</td>\n",
       "      <td>PaidUp</td>\n",
       "      <td>NoSavings</td>\n",
       "      <td>OneToFour</td>\n",
       "      <td>MaleMarried</td>\n",
       "      <td>One</td>\n",
       "      <td>No</td>\n",
       "      <td>NoCredit</td>\n",
       "      <td>HouseRelated</td>\n",
       "      <td>Young</td>\n",
       "      <td>Good</td>\n",
       "    </tr>\n",
       "  </tbody>\n",
       "</table>\n",
       "</div>"
      ],
      "text/plain": [
       "  Account Balance Payment Status Savings/Stock Value Employment Length  \\\n",
       "0     SomeBalance      NoProblem           NoSavings         OneToFour   \n",
       "1     SomeBalance         PaidUp           NoSavings       AboveSevent   \n",
       "2       NoBalance      NoProblem           NoSavings     BellowOneYear   \n",
       "3       NoBalance      NoProblem       BellowHundred      FourToSevent   \n",
       "4     SomeBalance         PaidUp           NoSavings         OneToFour   \n",
       "\n",
       "  Sex & Marital Status NumberCredits Guarantors Concurrent Credits  \\\n",
       "0           MaleSingle       OnePlus         No           NoCredit   \n",
       "1          MaleMarried           One         No           NoCredit   \n",
       "2          MaleMarried       OnePlus         No           NoCredit   \n",
       "3          MaleMarried           One         No           NoCredit   \n",
       "4          MaleMarried           One         No           NoCredit   \n",
       "\n",
       "        Purpose    AgeGroups Creditability  \n",
       "0       UsedCar  MidAgeAdult          Good  \n",
       "1  HouseRelated  MidAgeAdult          Good  \n",
       "2        NewCar  MidAgeAdult          Good  \n",
       "3         Other  MidAgeAdult          Good  \n",
       "4  HouseRelated        Young          Good  "
      ]
     },
     "execution_count": 2,
     "metadata": {},
     "output_type": "execute_result"
    }
   ],
   "source": [
    "from process_data import pre_process_data\n",
    "X_train = pd.read_csv('german_credit_train.csv', sep=\",\")\n",
    "y_train = X_train['Creditability']\n",
    "X_train = pre_process_data(X_train)\n",
    "X_train = X_train.drop(columns=['Age (years)'])\n",
    "X_train['Creditability'] = ['Good' if x == 1 else 'Bad' for x in y_train] \n",
    "\n",
    "print(X_train.shape)\n",
    "X_train.head()"
   ]
  },
  {
   "cell_type": "markdown",
   "metadata": {},
   "source": [
    "#### Distribution of Sex & Marital Status\n",
    "We can visualise each column individually, since all columns but the Age (years) column are categorical, we use a bar plot to visualise the distribution of each variable.\n",
    "\n",
    "This graphic shows the distribution of Sex & Marital Status. It can be seen that this data set is predominantly about married men and underrepresent women. "
   ]
  },
  {
   "cell_type": "code",
   "execution_count": 3,
   "metadata": {},
   "outputs": [
    {
     "data": {
      "text/plain": [
       "(array([0, 1, 2]), <a list of 3 Text xticklabel objects>)"
      ]
     },
     "execution_count": 3,
     "metadata": {},
     "output_type": "execute_result"
    },
    {
     "data": {
      "image/png": "[encoded data removed]",
      "text/plain": [
       "<Figure size 432x288 with 1 Axes>"
      ]
     },
     "metadata": {
      "needs_background": "light"
     },
     "output_type": "display_data"
    }
   ],
   "source": [
    "# Visualizing a few variables, sex and marital status\n",
    "X_train['Sex & Marital Status'].value_counts().plot(kind='bar', title=\"Marital status of applicants\", )\n",
    "plt.ylabel('Count')\n",
    "plt.xlabel('Sex & Marital Status')\n",
    "plt.xticks(rotation=0)"
   ]
  },
  {
   "cell_type": "markdown",
   "metadata": {},
   "source": [
    "#### Distribution of Creditability\n",
    "Let us look at the distribution of the response variable. That is the distribution of creditability.\n",
    "We can see that the data contains a lot more good credits that bad credits. \n",
    "\n",
    "This is a case of imbalance data set, meaning that we have an inequal distribution of classes in the training data set"
   ]
  },
  {
   "cell_type": "code",
   "execution_count": 4,
   "metadata": {},
   "outputs": [
    {
     "data": {
      "text/plain": [
       "(array([0, 1]), <a list of 2 Text xticklabel objects>)"
      ]
     },
     "execution_count": 4,
     "metadata": {},
     "output_type": "execute_result"
    },
    {
     "data": {
      "image/png": "[encoded data removed]",
      "text/plain": [
       "<Figure size 432x288 with 1 Axes>"
      ]
     },
     "metadata": {
      "needs_background": "light"
     },
     "output_type": "display_data"
    }
   ],
   "source": [
    "X_train['Creditability'].value_counts().plot(kind='bar', title=\"Distribution of Creditability\", )\n",
    "plt.ylabel('Count')\n",
    "plt.xlabel('Creditability')\n",
    "plt.xticks(rotation=0)"
   ]
  },
  {
   "cell_type": "markdown",
   "metadata": {},
   "source": [
    "#### Credibability by age groups\n",
    "\n",
    "We can also look at the relationship between some of the variables and the response variable creditability.\n",
    "\n",
    "The process_data.py file provides a function plot_marginal_distribution that allows you to visualize the distribution of a variable within fixed categories of another variable. \n",
    "This is known as marginal distribution\n",
    "\n",
    "For example, this graphic shows the marginal distribution of age groups within fixed categories of Credibility. Or in simple terms, the distribution of age groups per credit risk.\n"
   ]
  },
  {
   "cell_type": "code",
   "execution_count": 5,
   "metadata": {},
   "outputs": [
    {
     "data": {
      "image/png": "[encoded data removed]",
      "text/plain": [
       "<Figure size 576x432 with 1 Axes>"
      ]
     },
     "metadata": {
      "needs_background": "light"
     },
     "output_type": "display_data"
    }
   ],
   "source": [
    "from process_data import plot_marginal_distribution\n",
    "plot_marginal_distribution(X_train, var1='AgeGroups', var2='Creditability', \n",
    "                           title='Distribution of credit risk per age groups')"
   ]
  },
  {
   "cell_type": "markdown",
   "metadata": {},
   "source": [
    "## Building the model"
   ]
  },
  {
   "cell_type": "markdown",
   "metadata": {},
   "source": [
    "### Prepare test data"
   ]
  },
  {
   "cell_type": "code",
   "execution_count": 6,
   "metadata": {},
   "outputs": [],
   "source": [
    "X_train = pd.read_csv('german_credit_train.csv', sep=\",\")\n",
    "X_test = pd.read_csv('german_credit_test.csv', sep=\",\")\n",
    "\n",
    "y_train = X_train['Creditability']\n",
    "y_test = X_test['Creditability']\n",
    "\n",
    "\n",
    "# Preprocess the data set\n",
    "X_train = pre_process_data(X_train)\n",
    "#Drop the 'Age (years) column'\n",
    "X_train = X_train.drop(columns=['Age (years)'])\n",
    "\n",
    "# Create dummy variables using the DictVectorizer class \n",
    "dv = DictVectorizer(sparse=False)\n",
    "dv = dv.fit(X_train.to_dict('records'))\n",
    "\n",
    "dummy_train = dv.transform(X_train.to_dict('records'))\n",
    "cols = dv.get_feature_names()\n",
    "\n",
    "# Convert the data back to data frame\n",
    "dummy_train = pd.DataFrame(dummy_train, index=X_train.index, columns=cols)\n",
    "new_cols = {}\n",
    "for key in cols:\n",
    "    new_cols[key] = key.replace('=', '_')\n",
    "\n",
    "dummy_train = dummy_train.rename(columns=new_cols)"
   ]
  },
  {
   "cell_type": "code",
   "execution_count": 7,
   "metadata": {},
   "outputs": [
    {
     "data": {
      "text/html": [
       "<div>\n",
       "<style scoped>\n",
       "    .dataframe tbody tr th:only-of-type {\n",
       "        vertical-align: middle;\n",
       "    }\n",
       "\n",
       "    .dataframe tbody tr th {\n",
       "        vertical-align: top;\n",
       "    }\n",
       "\n",
       "    .dataframe thead th {\n",
       "        text-align: right;\n",
       "    }\n",
       "</style>\n",
       "<table border=\"1\" class=\"dataframe\">\n",
       "  <thead>\n",
       "    <tr style=\"text-align: right;\">\n",
       "      <th></th>\n",
       "      <th>Account Balance_NoAccount</th>\n",
       "      <th>Account Balance_NoBalance</th>\n",
       "      <th>Account Balance_SomeBalance</th>\n",
       "      <th>AgeGroups_MidAgeAdult</th>\n",
       "      <th>AgeGroups_OldAdult</th>\n",
       "      <th>AgeGroups_Senior</th>\n",
       "      <th>AgeGroups_Young</th>\n",
       "      <th>Concurrent Credits_NoCredit</th>\n",
       "      <th>Concurrent Credits_OtherBanks</th>\n",
       "      <th>Employment Length_AboveSevent</th>\n",
       "      <th>...</th>\n",
       "      <th>Purpose_NewCar</th>\n",
       "      <th>Purpose_Other</th>\n",
       "      <th>Purpose_UsedCar</th>\n",
       "      <th>Savings/Stock Value_AboveThousand</th>\n",
       "      <th>Savings/Stock Value_BellowHundred</th>\n",
       "      <th>Savings/Stock Value_NoSavings</th>\n",
       "      <th>Savings/Stock Value_Other</th>\n",
       "      <th>Sex &amp; Marital Status_Female</th>\n",
       "      <th>Sex &amp; Marital Status_MaleMarried</th>\n",
       "      <th>Sex &amp; Marital Status_MaleSingle</th>\n",
       "    </tr>\n",
       "  </thead>\n",
       "  <tbody>\n",
       "    <tr>\n",
       "      <th>0</th>\n",
       "      <td>0.0</td>\n",
       "      <td>0.0</td>\n",
       "      <td>1.0</td>\n",
       "      <td>1.0</td>\n",
       "      <td>0.0</td>\n",
       "      <td>0.0</td>\n",
       "      <td>0.0</td>\n",
       "      <td>1.0</td>\n",
       "      <td>0.0</td>\n",
       "      <td>0.0</td>\n",
       "      <td>...</td>\n",
       "      <td>0.0</td>\n",
       "      <td>0.0</td>\n",
       "      <td>1.0</td>\n",
       "      <td>0.0</td>\n",
       "      <td>0.0</td>\n",
       "      <td>1.0</td>\n",
       "      <td>0.0</td>\n",
       "      <td>0.0</td>\n",
       "      <td>0.0</td>\n",
       "      <td>1.0</td>\n",
       "    </tr>\n",
       "    <tr>\n",
       "      <th>1</th>\n",
       "      <td>0.0</td>\n",
       "      <td>0.0</td>\n",
       "      <td>1.0</td>\n",
       "      <td>1.0</td>\n",
       "      <td>0.0</td>\n",
       "      <td>0.0</td>\n",
       "      <td>0.0</td>\n",
       "      <td>1.0</td>\n",
       "      <td>0.0</td>\n",
       "      <td>1.0</td>\n",
       "      <td>...</td>\n",
       "      <td>0.0</td>\n",
       "      <td>0.0</td>\n",
       "      <td>0.0</td>\n",
       "      <td>0.0</td>\n",
       "      <td>0.0</td>\n",
       "      <td>1.0</td>\n",
       "      <td>0.0</td>\n",
       "      <td>0.0</td>\n",
       "      <td>1.0</td>\n",
       "      <td>0.0</td>\n",
       "    </tr>\n",
       "    <tr>\n",
       "      <th>2</th>\n",
       "      <td>0.0</td>\n",
       "      <td>1.0</td>\n",
       "      <td>0.0</td>\n",
       "      <td>1.0</td>\n",
       "      <td>0.0</td>\n",
       "      <td>0.0</td>\n",
       "      <td>0.0</td>\n",
       "      <td>1.0</td>\n",
       "      <td>0.0</td>\n",
       "      <td>0.0</td>\n",
       "      <td>...</td>\n",
       "      <td>1.0</td>\n",
       "      <td>0.0</td>\n",
       "      <td>0.0</td>\n",
       "      <td>0.0</td>\n",
       "      <td>0.0</td>\n",
       "      <td>1.0</td>\n",
       "      <td>0.0</td>\n",
       "      <td>0.0</td>\n",
       "      <td>1.0</td>\n",
       "      <td>0.0</td>\n",
       "    </tr>\n",
       "    <tr>\n",
       "      <th>3</th>\n",
       "      <td>0.0</td>\n",
       "      <td>1.0</td>\n",
       "      <td>0.0</td>\n",
       "      <td>1.0</td>\n",
       "      <td>0.0</td>\n",
       "      <td>0.0</td>\n",
       "      <td>0.0</td>\n",
       "      <td>1.0</td>\n",
       "      <td>0.0</td>\n",
       "      <td>0.0</td>\n",
       "      <td>...</td>\n",
       "      <td>0.0</td>\n",
       "      <td>1.0</td>\n",
       "      <td>0.0</td>\n",
       "      <td>0.0</td>\n",
       "      <td>1.0</td>\n",
       "      <td>0.0</td>\n",
       "      <td>0.0</td>\n",
       "      <td>0.0</td>\n",
       "      <td>1.0</td>\n",
       "      <td>0.0</td>\n",
       "    </tr>\n",
       "    <tr>\n",
       "      <th>4</th>\n",
       "      <td>0.0</td>\n",
       "      <td>0.0</td>\n",
       "      <td>1.0</td>\n",
       "      <td>0.0</td>\n",
       "      <td>0.0</td>\n",
       "      <td>0.0</td>\n",
       "      <td>1.0</td>\n",
       "      <td>1.0</td>\n",
       "      <td>0.0</td>\n",
       "      <td>0.0</td>\n",
       "      <td>...</td>\n",
       "      <td>0.0</td>\n",
       "      <td>0.0</td>\n",
       "      <td>0.0</td>\n",
       "      <td>0.0</td>\n",
       "      <td>0.0</td>\n",
       "      <td>1.0</td>\n",
       "      <td>0.0</td>\n",
       "      <td>0.0</td>\n",
       "      <td>1.0</td>\n",
       "      <td>0.0</td>\n",
       "    </tr>\n",
       "  </tbody>\n",
       "</table>\n",
       "<p>5 rows × 31 columns</p>\n",
       "</div>"
      ],
      "text/plain": [
       "   Account Balance_NoAccount  Account Balance_NoBalance  \\\n",
       "0                        0.0                        0.0   \n",
       "1                        0.0                        0.0   \n",
       "2                        0.0                        1.0   \n",
       "3                        0.0                        1.0   \n",
       "4                        0.0                        0.0   \n",
       "\n",
       "   Account Balance_SomeBalance  AgeGroups_MidAgeAdult  AgeGroups_OldAdult  \\\n",
       "0                          1.0                    1.0                 0.0   \n",
       "1                          1.0                    1.0                 0.0   \n",
       "2                          0.0                    1.0                 0.0   \n",
       "3                          0.0                    1.0                 0.0   \n",
       "4                          1.0                    0.0                 0.0   \n",
       "\n",
       "   AgeGroups_Senior  AgeGroups_Young  Concurrent Credits_NoCredit  \\\n",
       "0               0.0              0.0                          1.0   \n",
       "1               0.0              0.0                          1.0   \n",
       "2               0.0              0.0                          1.0   \n",
       "3               0.0              0.0                          1.0   \n",
       "4               0.0              1.0                          1.0   \n",
       "\n",
       "   Concurrent Credits_OtherBanks  Employment Length_AboveSevent  ...  \\\n",
       "0                            0.0                            0.0  ...   \n",
       "1                            0.0                            1.0  ...   \n",
       "2                            0.0                            0.0  ...   \n",
       "3                            0.0                            0.0  ...   \n",
       "4                            0.0                            0.0  ...   \n",
       "\n",
       "   Purpose_NewCar  Purpose_Other  Purpose_UsedCar  \\\n",
       "0             0.0            0.0              1.0   \n",
       "1             0.0            0.0              0.0   \n",
       "2             1.0            0.0              0.0   \n",
       "3             0.0            1.0              0.0   \n",
       "4             0.0            0.0              0.0   \n",
       "\n",
       "   Savings/Stock Value_AboveThousand  Savings/Stock Value_BellowHundred  \\\n",
       "0                                0.0                                0.0   \n",
       "1                                0.0                                0.0   \n",
       "2                                0.0                                0.0   \n",
       "3                                0.0                                1.0   \n",
       "4                                0.0                                0.0   \n",
       "\n",
       "   Savings/Stock Value_NoSavings  Savings/Stock Value_Other  \\\n",
       "0                            1.0                        0.0   \n",
       "1                            1.0                        0.0   \n",
       "2                            1.0                        0.0   \n",
       "3                            0.0                        0.0   \n",
       "4                            1.0                        0.0   \n",
       "\n",
       "   Sex & Marital Status_Female  Sex & Marital Status_MaleMarried  \\\n",
       "0                          0.0                               0.0   \n",
       "1                          0.0                               1.0   \n",
       "2                          0.0                               1.0   \n",
       "3                          0.0                               1.0   \n",
       "4                          0.0                               1.0   \n",
       "\n",
       "   Sex & Marital Status_MaleSingle  \n",
       "0                              1.0  \n",
       "1                              0.0  \n",
       "2                              0.0  \n",
       "3                              0.0  \n",
       "4                              0.0  \n",
       "\n",
       "[5 rows x 31 columns]"
      ]
     },
     "execution_count": 7,
     "metadata": {},
     "output_type": "execute_result"
    }
   ],
   "source": [
    "dummy_train.head()"
   ]
  },
  {
   "cell_type": "code",
   "execution_count": 8,
   "metadata": {},
   "outputs": [],
   "source": [
    "input_data = {\"Account Balance\": 2,\n",
    "\"Payment Status of Previous Credit\": 2,\n",
    "\"Value Savings/Stocks\": 1, \n",
    "\"Length of current employment\": 3, \n",
    "\"Sex & Marital Status\": 3,\n",
    "\"No of Credits at this Bank\": 1, \n",
    "\"Guarantors\": 2, \n",
    "\"Concurrent Credits\": 3,\n",
    "\"Purpose\": 4, \n",
    "\"Age (years)\": 42}\n",
    "\n",
    "# Save the dict_vectorizer for later use\n",
    "import pickle\n",
    "with open('./webservice/static/dict_vectorizer.pkl', 'wb') as stream:\n",
    "    pickle.dump(dv, stream)"
   ]
  },
  {
   "cell_type": "markdown",
   "metadata": {},
   "source": [
    "### Train a classifier"
   ]
  },
  {
   "cell_type": "code",
   "execution_count": 9,
   "metadata": {},
   "outputs": [],
   "source": [
    "# Training the model\n",
    "from sklearn.linear_model import LogisticRegression\n",
    "\n",
    "data_scaler = StandardScaler()\n",
    "dummy_train = data_scaler.fit_transform(dummy_train)\n",
    "\n",
    "classifier = LogisticRegression(random_state=12, class_weight='balanced')\n",
    "# Train the model\n",
    "classifier = classifier.fit(dummy_train, y_train)\n",
    "\n",
    "# Save the scaler \n",
    "with open('./webservice/static/data_scaler.pkl', 'wb') as stream:\n",
    "    pickle.dump(data_scaler, stream)"
   ]
  },
  {
   "cell_type": "markdown",
   "metadata": {},
   "source": [
    "### Preparing test data"
   ]
  },
  {
   "cell_type": "code",
   "execution_count": 10,
   "metadata": {},
   "outputs": [],
   "source": [
    "# Preparing test data\n",
    "X_test = pre_process_data(X_test)\n",
    "X_test = X_test.drop(columns=['Age (years)'])\n",
    "\n",
    "dummy_test = dv.transform(X_test.to_dict('records'))\n",
    "cols = dv.get_feature_names()\n",
    "\n",
    "# Convert the data back to data frame\n",
    "dummy_test = pd.DataFrame(dummy_test, index=X_test.index, columns=cols)\n",
    "new_cols = {}\n",
    "for key in cols:\n",
    "    new_cols[key] = key.replace('=', '_')\n",
    "\n",
    "dummy_test = dummy_test.rename(columns=new_cols)"
   ]
  },
  {
   "cell_type": "code",
   "execution_count": 11,
   "metadata": {},
   "outputs": [
    {
     "name": "stdout",
     "output_type": "stream",
     "text": [
      "[[191  85]\n",
      " [ 36  88]]\n",
      "#### Model's accuracy:  0.70\n"
     ]
    },
    {
     "data": {
      "image/png": "[encoded data removed]",
      "text/plain": [
       "<Figure size 432x288 with 2 Axes>"
      ]
     },
     "metadata": {
      "needs_background": "light"
     },
     "output_type": "display_data"
    }
   ],
   "source": [
    "y_preds = classifier.predict(data_scaler.transform(dummy_test))\n",
    "from sklearn.metrics import plot_confusion_matrix, confusion_matrix\n",
    "conf_matrix = confusion_matrix(y_test, y_preds, labels=[1, 0])\n",
    "\n",
    "print(conf_matrix)\n",
    "\n",
    "print(\"#### Model's accuracy:  {:.2f}\".format(classifier.score(data_scaler.transform(dummy_test), y_test)))\n",
    "\n",
    "class_names = ['Good', 'Bad']\n",
    "disp = plot_confusion_matrix(classifier, data_scaler.transform(dummy_test), \n",
    "                             y_test, display_labels=class_names, \n",
    "                             cmap=plt.cm.Oranges, \n",
    "                             normalize=None, values_format='.0f', labels=[1, 0])"
   ]
  },
  {
   "cell_type": "code",
   "execution_count": 12,
   "metadata": {},
   "outputs": [],
   "source": [
    "# Saving the model to disk, for later use\n",
    "import pickle\n",
    "\n",
    "with open('./webservice/static/credit_model.pkl', 'wb') as stream:\n",
    "    pickle.dump(classifier, stream)"
   ]
  },
  {
   "cell_type": "markdown",
   "metadata": {},
   "source": [
    "## Pipeline"
   ]
  },
  {
   "cell_type": "code",
   "execution_count": 13,
   "metadata": {},
   "outputs": [],
   "source": [
    "from sklearn.base import BaseEstimator, TransformerMixin\n",
    "from sklearn.feature_extraction import DictVectorizer\n",
    "from sklearn.linear_model import LogisticRegression\n",
    "\n",
    "from sklearn.preprocessing import StandardScaler, FunctionTransformer\n",
    "\n",
    "from sklearn.pipeline import Pipeline\n",
    "\n",
    "class PreProcessData(TransformerMixin):\n",
    "\n",
    "    def __init__(self):\n",
    "        pass\n",
    "\n",
    "    def fit(self, X, y=None):\n",
    "        return self\n",
    "\n",
    "    def transform(self, X):    \n",
    "        return pre_process_data(X)\n",
    "    \n",
    "\n",
    "PreProcessData = FunctionTransformer(pre_process_data)\n",
    "    \n",
    "    \n",
    "class DummyTransformer(TransformerMixin):\n",
    "    \n",
    "    def __init__(self):\n",
    "        pass\n",
    "\n",
    "    def fit(self, X, y=None):\n",
    "        Xdict = X.to_dict('records')\n",
    "        self.dv = DictVectorizer(sparse=False)\n",
    "        self.dv.fit(Xdict)\n",
    "        return self\n",
    "\n",
    "    def transform(self, X):\n",
    "        Xdict = X.to_dict('records')\n",
    "        Xt = self.dv.transform(Xdict)\n",
    "        cols = self.dv.get_feature_names()\n",
    "        Xdum = pd.DataFrame(Xt, index=X.index, columns=cols)\n",
    "        new_cols = {}\n",
    "        for key in cols:\n",
    "            new_cols[key] = key.replace('=', '_')\n",
    "        return Xdum.rename(columns=new_cols)\n",
    "    \n",
    "\n",
    "class DFStandardScaler(TransformerMixin):\n",
    "    \n",
    "    def __init__(self):\n",
    "        self.ss = None\n",
    "\n",
    "    def fit(self, X, y=None):\n",
    "        self.ss = StandardScaler().fit(X)\n",
    "        return self\n",
    "\n",
    "    def transform(self, X):\n",
    "        Xss = self.ss.transform(X)\n",
    "        Xscaled = pd.DataFrame(Xss, index=X.index, \n",
    "                               columns=X.columns)\n",
    "        return Xscaled\n",
    "    \n",
    "class DropColumns(TransformerMixin):\n",
    "\n",
    "    def __init__(self, cols):\n",
    "        self.cols = cols\n",
    "\n",
    "    def fit(self, X, y=None):\n",
    "        return self\n",
    "\n",
    "    def transform(self, X):\n",
    "        Xcols = X.drop(columns=self.cols) \n",
    "        return Xcols"
   ]
  },
  {
   "cell_type": "code",
   "execution_count": 14,
   "metadata": {},
   "outputs": [
    {
     "data": {
      "text/plain": [
       "Pipeline(steps=[('pre_process_data',\n",
       "                 FunctionTransformer(func=<function pre_process_data at 0x0000024A12E02488>)),\n",
       "                ('drop_columns',\n",
       "                 <__main__.DropColumns object at 0x0000024A14549710>),\n",
       "                ('dummies',\n",
       "                 <__main__.DummyTransformer object at 0x0000024A14549B70>),\n",
       "                ('scale',\n",
       "                 <__main__.DFStandardScaler object at 0x0000024A1302D128>),\n",
       "                ('logistic_regression',\n",
       "                 LogisticRegression(class_weight='balanced', random_state=12))])"
      ]
     },
     "execution_count": 14,
     "metadata": {},
     "output_type": "execute_result"
    }
   ],
   "source": [
    "# Building the pipeline\n",
    "\n",
    "X_train = pd.read_csv('german_credit_train.csv', sep=\",\")\n",
    "X_test = pd.read_csv('german_credit_test.csv', sep=\",\")\n",
    "\n",
    "y_train = X_train['Creditability']\n",
    "\n",
    "COLUMNS_TO_DROP = ['Age (years)']\n",
    "\n",
    "\n",
    "model_pipeline = Pipeline(steps=[('pre_process_data', PreProcessData), \n",
    "                                 ('drop_columns', DropColumns(COLUMNS_TO_DROP)), \n",
    "                                 ('dummies',DummyTransformer()), \n",
    "                                 ('scale', DFStandardScaler()),\n",
    "                                 ('logistic_regression', LogisticRegression(random_state=12, class_weight='balanced'))\n",
    "                                 ])\n",
    "\n",
    "model_pipeline.fit(X_train, y_train)"
   ]
  },
  {
   "cell_type": "code",
   "execution_count": 15,
   "metadata": {},
   "outputs": [
    {
     "data": {
      "text/plain": [
       "array([[191,  85],\n",
       "       [ 36,  88]], dtype=int64)"
      ]
     },
     "execution_count": 15,
     "metadata": {},
     "output_type": "execute_result"
    }
   ],
   "source": [
    "predictions  = model_pipeline.predict(X_test)\n",
    "from sklearn.metrics import plot_confusion_matrix, confusion_matrix\n",
    "conf_matrix = confusion_matrix(X_test['Creditability'], predictions, labels=[1, 0])\n",
    "\n",
    "\n",
    "conf_matrix"
   ]
  },
  {
   "cell_type": "code",
   "execution_count": 16,
   "metadata": {},
   "outputs": [
    {
     "name": "stderr",
     "output_type": "stream",
     "text": [
      "CRITICAL:root:checking logging\n",
      "WARNING:root:Logging does work\n"
     ]
    }
   ],
   "source": [
    "import logging\n",
    "logging.critical('checking logging')\n",
    "logging.warning('Logging does work')"
   ]
  },
  {
   "cell_type": "markdown",
   "metadata": {},
   "source": [
    "## Tutorial on AI fairness"
   ]
  },
  {
   "cell_type": "code",
   "execution_count": 17,
   "metadata": {},
   "outputs": [],
   "source": [
    "X_train = pd.read_csv('german_credit_train.csv', sep=\",\")\n",
    "X_test = pd.read_csv('german_credit_test.csv', sep=\",\")\n",
    "\n",
    "y_train = X_train['Creditability']\n",
    "y_test = X_test['Creditability']\n",
    "\n",
    "\n",
    "# Preprocess the data set\n",
    "X_train = pre_process_data(X_train)\n",
    "#Drop the 'Age (years) column'\n",
    "X_train = X_train.drop(columns=['Age (years)'])\n",
    "X_train['Creditability'] = ['Good' if x == 1 else 'Bad' for x in y_train] "
   ]
  },
  {
   "cell_type": "code",
   "execution_count": 18,
   "metadata": {},
   "outputs": [
    {
     "data": {
      "text/html": [
       "<div>\n",
       "<style scoped>\n",
       "    .dataframe tbody tr th:only-of-type {\n",
       "        vertical-align: middle;\n",
       "    }\n",
       "\n",
       "    .dataframe tbody tr th {\n",
       "        vertical-align: top;\n",
       "    }\n",
       "\n",
       "    .dataframe thead th {\n",
       "        text-align: right;\n",
       "    }\n",
       "</style>\n",
       "<table border=\"1\" class=\"dataframe\">\n",
       "  <thead>\n",
       "    <tr style=\"text-align: right;\">\n",
       "      <th></th>\n",
       "      <th>Account Balance</th>\n",
       "      <th>Payment Status</th>\n",
       "      <th>Savings/Stock Value</th>\n",
       "      <th>Employment Length</th>\n",
       "      <th>Sex &amp; Marital Status</th>\n",
       "      <th>NumberCredits</th>\n",
       "      <th>Guarantors</th>\n",
       "      <th>Concurrent Credits</th>\n",
       "      <th>Purpose</th>\n",
       "      <th>AgeGroups</th>\n",
       "      <th>Creditability</th>\n",
       "    </tr>\n",
       "  </thead>\n",
       "  <tbody>\n",
       "    <tr>\n",
       "      <th>0</th>\n",
       "      <td>SomeBalance</td>\n",
       "      <td>NoProblem</td>\n",
       "      <td>NoSavings</td>\n",
       "      <td>OneToFour</td>\n",
       "      <td>MaleSingle</td>\n",
       "      <td>OnePlus</td>\n",
       "      <td>No</td>\n",
       "      <td>NoCredit</td>\n",
       "      <td>UsedCar</td>\n",
       "      <td>MidAgeAdult</td>\n",
       "      <td>Good</td>\n",
       "    </tr>\n",
       "    <tr>\n",
       "      <th>1</th>\n",
       "      <td>SomeBalance</td>\n",
       "      <td>PaidUp</td>\n",
       "      <td>NoSavings</td>\n",
       "      <td>AboveSevent</td>\n",
       "      <td>MaleMarried</td>\n",
       "      <td>One</td>\n",
       "      <td>No</td>\n",
       "      <td>NoCredit</td>\n",
       "      <td>HouseRelated</td>\n",
       "      <td>MidAgeAdult</td>\n",
       "      <td>Good</td>\n",
       "    </tr>\n",
       "    <tr>\n",
       "      <th>2</th>\n",
       "      <td>NoBalance</td>\n",
       "      <td>NoProblem</td>\n",
       "      <td>NoSavings</td>\n",
       "      <td>BellowOneYear</td>\n",
       "      <td>MaleMarried</td>\n",
       "      <td>OnePlus</td>\n",
       "      <td>No</td>\n",
       "      <td>NoCredit</td>\n",
       "      <td>NewCar</td>\n",
       "      <td>MidAgeAdult</td>\n",
       "      <td>Good</td>\n",
       "    </tr>\n",
       "    <tr>\n",
       "      <th>3</th>\n",
       "      <td>NoBalance</td>\n",
       "      <td>NoProblem</td>\n",
       "      <td>BellowHundred</td>\n",
       "      <td>FourToSevent</td>\n",
       "      <td>MaleMarried</td>\n",
       "      <td>One</td>\n",
       "      <td>No</td>\n",
       "      <td>NoCredit</td>\n",
       "      <td>Other</td>\n",
       "      <td>MidAgeAdult</td>\n",
       "      <td>Good</td>\n",
       "    </tr>\n",
       "    <tr>\n",
       "      <th>4</th>\n",
       "      <td>SomeBalance</td>\n",
       "      <td>PaidUp</td>\n",
       "      <td>NoSavings</td>\n",
       "      <td>OneToFour</td>\n",
       "      <td>MaleMarried</td>\n",
       "      <td>One</td>\n",
       "      <td>No</td>\n",
       "      <td>NoCredit</td>\n",
       "      <td>HouseRelated</td>\n",
       "      <td>Young</td>\n",
       "      <td>Good</td>\n",
       "    </tr>\n",
       "  </tbody>\n",
       "</table>\n",
       "</div>"
      ],
      "text/plain": [
       "  Account Balance Payment Status Savings/Stock Value Employment Length  \\\n",
       "0     SomeBalance      NoProblem           NoSavings         OneToFour   \n",
       "1     SomeBalance         PaidUp           NoSavings       AboveSevent   \n",
       "2       NoBalance      NoProblem           NoSavings     BellowOneYear   \n",
       "3       NoBalance      NoProblem       BellowHundred      FourToSevent   \n",
       "4     SomeBalance         PaidUp           NoSavings         OneToFour   \n",
       "\n",
       "  Sex & Marital Status NumberCredits Guarantors Concurrent Credits  \\\n",
       "0           MaleSingle       OnePlus         No           NoCredit   \n",
       "1          MaleMarried           One         No           NoCredit   \n",
       "2          MaleMarried       OnePlus         No           NoCredit   \n",
       "3          MaleMarried           One         No           NoCredit   \n",
       "4          MaleMarried           One         No           NoCredit   \n",
       "\n",
       "        Purpose    AgeGroups Creditability  \n",
       "0       UsedCar  MidAgeAdult          Good  \n",
       "1  HouseRelated  MidAgeAdult          Good  \n",
       "2        NewCar  MidAgeAdult          Good  \n",
       "3         Other  MidAgeAdult          Good  \n",
       "4  HouseRelated        Young          Good  "
      ]
     },
     "execution_count": 18,
     "metadata": {},
     "output_type": "execute_result"
    }
   ],
   "source": [
    "X_train.head()"
   ]
  },
  {
   "cell_type": "code",
   "execution_count": 19,
   "metadata": {},
   "outputs": [
    {
     "name": "stderr",
     "output_type": "stream",
     "text": [
      "C:\\Users\\Ghislain Landry\\Anaconda3\\lib\\site-packages\\statsmodels\\tools\\_testing.py:19: FutureWarning: pandas.util.testing is deprecated. Use the functions in the public API at pandas.testing instead.\n",
      "  import pandas.util.testing as tm\n"
     ]
    },
    {
     "data": {
      "image/png": "[encoded data removed]",
      "text/plain": [
       "<Figure size 432x288 with 1 Axes>"
      ]
     },
     "metadata": {},
     "output_type": "display_data"
    }
   ],
   "source": [
    "import matplotlib.pyplot as plt\n",
    "import seaborn as sns\n",
    "sns.set(style=\"darkgrid\")\n",
    "ax = sns.countplot(x=\"Sex & Marital Status\", data=X_train)"
   ]
  },
  {
   "cell_type": "code",
   "execution_count": 20,
   "metadata": {},
   "outputs": [
    {
     "data": {
      "text/plain": [
       "Text(0.5, 0, 'Age groups')"
      ]
     },
     "execution_count": 20,
     "metadata": {},
     "output_type": "execute_result"
    },
    {
     "data": {
      "image/png": "[encoded data removed]",
      "text/plain": [
       "<Figure size 720x288 with 2 Axes>"
      ]
     },
     "metadata": {},
     "output_type": "display_data"
    }
   ],
   "source": [
    "fig, ax = plt.subplots(nrows = 1, ncols=2, sharex=False, sharey=True, figsize=(10,4))\n",
    "X_train['Sex & Marital Status'].value_counts().plot(kind='bar', title='# people per Sex & Marital Status', rot=0, ax=ax[0])\n",
    "X_train['AgeGroups'].value_counts().plot(kind='bar', title='# people per age groups', color='orange', rot=0, ax=ax[1])\n",
    "ax[0].set_ylabel(\"Frequency\")\n",
    "ax[0].set_xlabel(\"Sex & Marital Status\")\n",
    "ax[1].set_xlabel(\"Age groups\")"
   ]
  },
  {
   "cell_type": "code",
   "execution_count": 21,
   "metadata": {},
   "outputs": [
    {
     "data": {
      "text/html": [
       "<div>\n",
       "<style scoped>\n",
       "    .dataframe tbody tr th:only-of-type {\n",
       "        vertical-align: middle;\n",
       "    }\n",
       "\n",
       "    .dataframe tbody tr th {\n",
       "        vertical-align: top;\n",
       "    }\n",
       "\n",
       "    .dataframe thead th {\n",
       "        text-align: right;\n",
       "    }\n",
       "</style>\n",
       "<table border=\"1\" class=\"dataframe\">\n",
       "  <thead>\n",
       "    <tr style=\"text-align: right;\">\n",
       "      <th>Age Groups</th>\n",
       "      <th>MidAgeAdult</th>\n",
       "      <th>OldAdult</th>\n",
       "      <th>Senior</th>\n",
       "      <th>Young</th>\n",
       "      <th>Total</th>\n",
       "    </tr>\n",
       "    <tr>\n",
       "      <th>Creditability</th>\n",
       "      <th></th>\n",
       "      <th></th>\n",
       "      <th></th>\n",
       "      <th></th>\n",
       "      <th></th>\n",
       "    </tr>\n",
       "  </thead>\n",
       "  <tbody>\n",
       "    <tr>\n",
       "      <th>Bad</th>\n",
       "      <td>86</td>\n",
       "      <td>33</td>\n",
       "      <td>9</td>\n",
       "      <td>48</td>\n",
       "      <td>176</td>\n",
       "    </tr>\n",
       "    <tr>\n",
       "      <th>Good</th>\n",
       "      <td>239</td>\n",
       "      <td>97</td>\n",
       "      <td>23</td>\n",
       "      <td>65</td>\n",
       "      <td>424</td>\n",
       "    </tr>\n",
       "    <tr>\n",
       "      <th>Total</th>\n",
       "      <td>325</td>\n",
       "      <td>130</td>\n",
       "      <td>32</td>\n",
       "      <td>113</td>\n",
       "      <td>600</td>\n",
       "    </tr>\n",
       "  </tbody>\n",
       "</table>\n",
       "</div>"
      ],
      "text/plain": [
       "Age Groups     MidAgeAdult  OldAdult  Senior  Young  Total\n",
       "Creditability                                             \n",
       "Bad                     86        33       9     48    176\n",
       "Good                   239        97      23     65    424\n",
       "Total                  325       130      32    113    600"
      ]
     },
     "execution_count": 21,
     "metadata": {},
     "output_type": "execute_result"
    }
   ],
   "source": [
    "ct = pd.crosstab(X_train['Creditability'], \n",
    "                 X_train['AgeGroups'], \n",
    "                 rownames=['Creditability'], \n",
    "                 colnames=['Age Groups'], margins=True, margins_name='Total')\n",
    "ct"
   ]
  },
  {
   "cell_type": "code",
   "execution_count": 22,
   "metadata": {},
   "outputs": [
    {
     "data": {
      "text/html": [
       "<div>\n",
       "<style scoped>\n",
       "    .dataframe tbody tr th:only-of-type {\n",
       "        vertical-align: middle;\n",
       "    }\n",
       "\n",
       "    .dataframe tbody tr th {\n",
       "        vertical-align: top;\n",
       "    }\n",
       "\n",
       "    .dataframe thead th {\n",
       "        text-align: right;\n",
       "    }\n",
       "</style>\n",
       "<table border=\"1\" class=\"dataframe\">\n",
       "  <thead>\n",
       "    <tr style=\"text-align: right;\">\n",
       "      <th>Age Groups</th>\n",
       "      <th>MidAgeAdult</th>\n",
       "      <th>OldAdult</th>\n",
       "      <th>Senior</th>\n",
       "      <th>Young</th>\n",
       "    </tr>\n",
       "    <tr>\n",
       "      <th>Creditability</th>\n",
       "      <th></th>\n",
       "      <th></th>\n",
       "      <th></th>\n",
       "      <th></th>\n",
       "    </tr>\n",
       "  </thead>\n",
       "  <tbody>\n",
       "    <tr>\n",
       "      <th>Bad</th>\n",
       "      <td>0.264615</td>\n",
       "      <td>0.253846</td>\n",
       "      <td>0.28125</td>\n",
       "      <td>0.424779</td>\n",
       "    </tr>\n",
       "    <tr>\n",
       "      <th>Good</th>\n",
       "      <td>0.735385</td>\n",
       "      <td>0.746154</td>\n",
       "      <td>0.71875</td>\n",
       "      <td>0.575221</td>\n",
       "    </tr>\n",
       "  </tbody>\n",
       "</table>\n",
       "</div>"
      ],
      "text/plain": [
       "Age Groups     MidAgeAdult  OldAdult   Senior     Young\n",
       "Creditability                                          \n",
       "Bad               0.264615  0.253846  0.28125  0.424779\n",
       "Good              0.735385  0.746154  0.71875  0.575221"
      ]
     },
     "execution_count": 22,
     "metadata": {},
     "output_type": "execute_result"
    }
   ],
   "source": [
    "ct = pd.crosstab(X_train['Creditability'], \n",
    "                 X_train['AgeGroups'], \n",
    "                 rownames=['Creditability'], \n",
    "                 colnames=['Age Groups'], \n",
    "                 normalize='columns')\n",
    "ct"
   ]
  },
  {
   "cell_type": "code",
   "execution_count": 23,
   "metadata": {},
   "outputs": [
    {
     "data": {
      "image/png": "[encoded data removed]",
      "text/plain": [
       "<Figure size 576x432 with 1 Axes>"
      ]
     },
     "metadata": {},
     "output_type": "display_data"
    }
   ],
   "source": [
    "from process_data import plot_marginal_distribution\n",
    "plot_marginal_distribution(X_train, var1='AgeGroups', var2='Creditability')"
   ]
  },
  {
   "cell_type": "code",
   "execution_count": 24,
   "metadata": {},
   "outputs": [
    {
     "data": {
      "image/png": "[encoded data removed]",
      "text/plain": [
       "<Figure size 576x432 with 1 Axes>"
      ]
     },
     "metadata": {},
     "output_type": "display_data"
    }
   ],
   "source": [
    "X_test_process = pre_process_data(X_test)\n",
    "X_test_process['Predicted Creditability'] = ['Good' if x == 1 else 'Bad' for x in y_test]\n",
    "plot_marginal_distribution(X_test_process, \n",
    "                           var1='AgeGroups', \n",
    "                           var2='Predicted Creditability')"
   ]
  },
  {
   "cell_type": "code",
   "execution_count": 25,
   "metadata": {},
   "outputs": [
    {
     "data": {
      "image/png": "[encoded data removed]",
      "text/plain": [
       "<Figure size 432x288 with 2 Axes>"
      ]
     },
     "metadata": {},
     "output_type": "display_data"
    }
   ],
   "source": [
    "class_names = ['Good', 'Bad']\n",
    "disp = plot_confusion_matrix(classifier, data_scaler.transform(dummy_test), \n",
    "                             y_test, display_labels=class_names, \n",
    "                             cmap=plt.cm.Oranges, \n",
    "                             normalize=None, values_format='.0f', labels=[1, 0])"
   ]
  },
  {
   "cell_type": "markdown",
   "metadata": {},
   "source": [
    "## Confusion matrix for predictions within subgroups of the sensitive variable AgeGroups"
   ]
  },
  {
   "cell_type": "code",
   "execution_count": 26,
   "metadata": {},
   "outputs": [
    {
     "data": {
      "image/png": "[encoded data removed]",
      "text/plain": [
       "<Figure size 720x576 with 8 Axes>"
      ]
     },
     "metadata": {},
     "output_type": "display_data"
    }
   ],
   "source": [
    "fig, ax = plt.subplots(nrows = 2, ncols=2, sharex=True, sharey=True, figsize=(10,8))\n",
    "\n",
    "mapping = {'AgeGroups_MidAgeAdult': 'Mid Age Adults', \n",
    "           'AgeGroups_OldAdult': 'Old Adults', \n",
    "           'AgeGroups_Senior': 'Senior', \n",
    "           'AgeGroups_Young': 'Young'}\n",
    "\n",
    "for age_group, axis in zip(['AgeGroups_MidAgeAdult', 'AgeGroups_OldAdult', 'AgeGroups_Senior', 'AgeGroups_Young'], \n",
    "                 [ax[0][0], ax[0][1], ax[1][0], ax[1][1]]):\n",
    "\n",
    "    tmp_data = dummy_test[dummy_test[age_group] == 1]\n",
    "    disp = plot_confusion_matrix(classifier, data_scaler.transform(tmp_data), \n",
    "                             y_test[tmp_data.index], display_labels=class_names, \n",
    "                             cmap=plt.cm.Blues, \n",
    "                             normalize='all', values_format='.2f', labels=[1, 0], ax=axis)\n",
    "    axis.set_title(mapping[age_group])"
   ]
  },
  {
   "cell_type": "markdown",
   "metadata": {},
   "source": [
    "Since the data seems to be biased only against young people, we will combine all other Age group categories for the rest of our analysis "
   ]
  },
  {
   "cell_type": "markdown",
   "metadata": {},
   "source": [
    "## Training on the new data set\n",
    "Data set with only two groups for the AgeGroups sensitive attribute\n",
    "\n",
    "Redefine the AgeGroups feature as follows: \n",
    "\n",
    "* ‘Old’ if age group is either 'Adult', 'OldAdult’ or 'Senior’\n",
    "* Young otherwise\n",
    "\n",
    "We use the pipeline that we just built, however, we have added a new transformer to convert the AgeGroups feature accordingly\n"
   ]
  },
  {
   "cell_type": "markdown",
   "metadata": {},
   "source": [
    "### Creating the new data set"
   ]
  },
  {
   "cell_type": "code",
   "execution_count": 27,
   "metadata": {},
   "outputs": [],
   "source": [
    "X_train = pd.read_csv('german_credit_train.csv', sep=\",\")\n",
    "X_test = pd.read_csv('german_credit_test.csv', sep=\",\")\n",
    "y_train = X_train['Creditability']\n",
    "y_test = X_test['Creditability']\n",
    "\n",
    "def new_age_groups(data):\n",
    "    \"\"\" convert age groups to old and young\"\"\"\n",
    "    data['AgeGroups'] = ['Young' if x == 'Young' else 'Old' for x in data['AgeGroups']]\n",
    "    return data\n",
    "\n",
    "Xtrain = new_age_groups(pre_process_data(X_train))\n",
    "Xtest = new_age_groups(pre_process_data(X_test))"
   ]
  },
  {
   "cell_type": "markdown",
   "metadata": {},
   "source": [
    "### Verify that the new data set is biased against Young people"
   ]
  },
  {
   "cell_type": "code",
   "execution_count": 28,
   "metadata": {},
   "outputs": [
    {
     "data": {
      "image/png": "[encoded data removed]",
      "text/plain": [
       "<Figure size 576x432 with 1 Axes>"
      ]
     },
     "metadata": {},
     "output_type": "display_data"
    }
   ],
   "source": [
    "Xtrain['Creditability'] = ['Good' if x == 1 \n",
    "                           else 'Bad' for x in y_train]\n",
    "plot_marginal_distribution(Xtrain, var1='AgeGroups', \n",
    "                           var2='Creditability',\n",
    "                           title=\"Age groups by Creditability\")"
   ]
  },
  {
   "cell_type": "code",
   "execution_count": 29,
   "metadata": {},
   "outputs": [
    {
     "data": {
      "image/png": "[encoded data removed]",
      "text/plain": [
       "<Figure size 432x288 with 2 Axes>"
      ]
     },
     "metadata": {},
     "output_type": "display_data"
    }
   ],
   "source": [
    "### Train a model on the new data\n",
    "\n",
    "np.random.seed(10)\n",
    "\n",
    "CreateNewAgeGroups = FunctionTransformer(new_age_groups)\n",
    "\n",
    "model_pipeline = Pipeline(steps=[('pre_process_data', PreProcessData),\n",
    "                                 ('create_new_age_groups', CreateNewAgeGroups),\n",
    "                                 ('drop_columns', DropColumns(['Age (years)'])), \n",
    "                                 ('dummies',DummyTransformer()), \n",
    "                                 ('scale', DFStandardScaler()),\n",
    "                                 ('logistic_regression', LogisticRegression(random_state=12, class_weight='balanced'))\n",
    "                                 ])\n",
    "# train the pipeline\n",
    "model_pipeline.fit(X_train, y_train)\n",
    "\n",
    "class_names = ['Good', 'Bad']\n",
    "disp = plot_confusion_matrix(model_pipeline, X_test, \n",
    "                             y_test, display_labels=class_names, \n",
    "                             cmap=plt.cm.Oranges, \n",
    "                             normalize=None, values_format='.0f', labels=[1, 0])"
   ]
  },
  {
   "cell_type": "markdown",
   "metadata": {},
   "source": [
    "## Verify that the yound age group is still unprivileged "
   ]
  },
  {
   "cell_type": "code",
   "execution_count": 33,
   "metadata": {},
   "outputs": [
    {
     "data": {
      "image/png": "[encoded data removed]",
      "text/plain": [
       "<Figure size 864x432 with 4 Axes>"
      ]
     },
     "metadata": {},
     "output_type": "display_data"
    }
   ],
   "source": [
    "from process_data import plot_confusion_matrix_subgroups\n",
    "import matplotlib.pyplot as plt\n",
    "\n",
    "func = lambda x: 'Young' if x in range(0, 26) else 'Old'\n",
    "plot_confusion_matrix_subgroups(model_pipeline, X_test, y_test, \n",
    "                                fig_nrows=1, fig_ncols=2, \n",
    "                                figsize=(12, 6), \n",
    "                                key_column = 'Age (years)',\n",
    "                                class_names = ['Good', 'Bad'], \n",
    "                                groups = ['Old', 'Young'], \n",
    "                                group_function=func)"
   ]
  },
  {
   "cell_type": "markdown",
   "metadata": {},
   "source": [
    "### Preparing data for AIF360"
   ]
  },
  {
   "cell_type": "code",
   "execution_count": 34,
   "metadata": {},
   "outputs": [],
   "source": [
    "from aif360.datasets import Dataset, StandardDataset\n",
    "\n",
    "from aif360.algorithms.preprocessing import LFR\n",
    "from aif360.algorithms.preprocessing.reweighing import Reweighing\n",
    "\n",
    "\n",
    "X_train = pd.read_csv('german_credit_train.csv', sep=\",\")\n",
    "X_test = pd.read_csv('german_credit_test.csv', sep=\",\")\n",
    "\n",
    "Xtrain = pre_process_data(X_train)\n",
    "Xtest = pre_process_data(X_test)\n",
    "\n",
    "Xtrain['AgeGroups'] = [0 if x == 'Young' else 1 \n",
    "                       for x in Xtrain['AgeGroups']]\n",
    "Xtest['AgeGroups'] = [0 if x == 'Young' else 1 \n",
    "                       for x in Xtest['AgeGroups']]\n",
    "\n",
    "# Remove age group\n",
    "Xtrain = Xtrain.drop(columns=['Age (years)'])\n",
    "Xtest = Xtest.drop(columns=['Age (years)'])\n",
    "\n",
    "Xtrain['Creditability'] = [x for x in X_train['Creditability']]\n",
    "Xtest['Creditability'] = [x for x in X_test['Creditability']]\n",
    "\n",
    "aif360_train_data = StandardDataset(Xtrain.copy(), \n",
    "                       label_name='Creditability', \n",
    "                       favorable_classes=[1], \n",
    "                       protected_attribute_names=['AgeGroups'], \n",
    "                       privileged_classes=[lambda x: x == 1], \n",
    "                       categorical_features=['Account Balance', 'Payment Status', \n",
    "                                             'Savings/Stock Value', 'Employment Length', \n",
    "                                             'NumberCredits', 'Guarantors', \n",
    "                                             'Concurrent Credits', 'Purpose', 'Sex & Marital Status'])"
   ]
  },
  {
   "cell_type": "markdown",
   "metadata": {},
   "source": [
    "### Computing fairness metric on the dtaa"
   ]
  },
  {
   "cell_type": "code",
   "execution_count": 35,
   "metadata": {},
   "outputs": [
    {
     "data": {
      "text/plain": [
       "-0.16195"
      ]
     },
     "execution_count": 35,
     "metadata": {},
     "output_type": "execute_result"
    }
   ],
   "source": [
    "from aif360.metrics import BinaryLabelDatasetMetric\n",
    "\n",
    "privileged_groups = [{'AgeGroups': 1.0}]\n",
    "unprivileged_groups = [{'AgeGroups': 0.0}]\n",
    "\n",
    "metric_orig_train = BinaryLabelDatasetMetric(aif360_train_data, \n",
    "                                               unprivileged_groups=unprivileged_groups,\n",
    "                                               privileged_groups=privileged_groups)\n",
    "\n",
    "np.round(metric_orig_train.mean_difference(), 5)"
   ]
  },
  {
   "cell_type": "markdown",
   "metadata": {},
   "source": [
    "### Reweighting data"
   ]
  },
  {
   "cell_type": "code",
   "execution_count": 36,
   "metadata": {},
   "outputs": [],
   "source": [
    "np.random.seed(71)\n",
    "\n",
    "from aif360.algorithms.preprocessing import Reweighing\n",
    "\n",
    "RW = Reweighing(unprivileged_groups=unprivileged_groups, \n",
    "                privileged_groups=privileged_groups)\n",
    "RW.fit(aif360_train_data)\n",
    "\n",
    "dataset_transf_train = RW.transform(aif360_train_data)"
   ]
  },
  {
   "cell_type": "markdown",
   "metadata": {},
   "source": [
    "### Fairness metric on the transformed data"
   ]
  },
  {
   "cell_type": "code",
   "execution_count": 37,
   "metadata": {},
   "outputs": [
    {
     "data": {
      "text/plain": [
       "-0.0"
      ]
     },
     "execution_count": 37,
     "metadata": {},
     "output_type": "execute_result"
    }
   ],
   "source": [
    "metric_transf_train = BinaryLabelDatasetMetric(dataset_transf_train, \n",
    "                                               unprivileged_groups=unprivileged_groups,\n",
    "                                               privileged_groups=privileged_groups)\n",
    "\n",
    "np.round(metric_transf_train.mean_difference(), 5)"
   ]
  },
  {
   "cell_type": "markdown",
   "metadata": {},
   "source": [
    "## Building a classifier on transformed data "
   ]
  },
  {
   "cell_type": "code",
   "execution_count": 38,
   "metadata": {},
   "outputs": [],
   "source": [
    "scaler = StandardScaler()\n",
    "x_train = dataset_transf_train.features\n",
    "y_train = dataset_transf_train.labels.ravel()\n",
    "#w_train = dataset_transf_train.instance_weights.ravel()\n",
    "x_train = scaler.fit_transform(x_train)\n",
    "\n",
    "clf2 = LogisticRegression(random_state=12, class_weight='balanced')\n",
    "clf2 = clf2.fit(x_train, y_train, sample_weight=dataset_transf_train.instance_weights)"
   ]
  },
  {
   "cell_type": "markdown",
   "metadata": {},
   "source": [
    "### Preparing test data"
   ]
  },
  {
   "cell_type": "code",
   "execution_count": 39,
   "metadata": {},
   "outputs": [],
   "source": [
    "aif360_test_data = StandardDataset(Xtest.copy(), \n",
    "                       label_name='Creditability', \n",
    "                       favorable_classes=[1], \n",
    "                       protected_attribute_names=['AgeGroups'], \n",
    "                       privileged_classes=[lambda x: x == 1], \n",
    "                       categorical_features=['Account Balance', 'Payment Status', \n",
    "                                             'Savings/Stock Value', 'Employment Length', \n",
    "                                             'NumberCredits', 'Guarantors', \n",
    "                                             'Concurrent Credits', 'Purpose', 'Sex & Marital Status'])\n",
    "\n",
    "# trandforming test data\n",
    "dataset_transf_test = RW.transform(aif360_test_data)"
   ]
  },
  {
   "cell_type": "markdown",
   "metadata": {},
   "source": [
    "### Predictions and confusion matrix on test data"
   ]
  },
  {
   "cell_type": "code",
   "execution_count": 50,
   "metadata": {},
   "outputs": [
    {
     "name": "stdout",
     "output_type": "stream",
     "text": [
      "Model accuracy 0.66 \n"
     ]
    },
    {
     "data": {
      "text/plain": [
       "'#### Confusion matrix'"
      ]
     },
     "metadata": {},
     "output_type": "display_data"
    },
    {
     "name": "stdout",
     "output_type": "stream",
     "text": [
      "[[ 83  41]\n",
      " [ 94 182]]\n"
     ]
    },
    {
     "data": {
      "image/png": "[encoded data removed]",
      "text/plain": [
       "<Figure size 432x288 with 2 Axes>"
      ]
     },
     "metadata": {},
     "output_type": "display_data"
    }
   ],
   "source": [
    "x_test = dataset_transf_test.features\n",
    "y_test = dataset_transf_test.labels.ravel()\n",
    "x_test = scaler.transform(x_test)\n",
    "\n",
    "predictions = clf2.predict(x_test)\n",
    "\n",
    "print('Model accuracy {:.2f} '.format(clf2.score(x_test, y_test)))\n",
    "\n",
    "display(\"#### Confusion matrix\")\n",
    "\n",
    "conf_matrix = confusion_matrix(y_test, predictions)\n",
    "\n",
    "print(conf_matrix)\n",
    "\n",
    "class_names = ['Good', 'Bad']\n",
    "disp = plot_confusion_matrix(clf2, x_test, \n",
    "                             y_test, display_labels=class_names, \n",
    "                             cmap=plt.cm.Blues, \n",
    "                             normalize=None, values_format='.0f', labels=[1, 0])"
   ]
  },
  {
   "cell_type": "markdown",
   "metadata": {},
   "source": [
    "## Confusion matrices within subgroups "
   ]
  },
  {
   "cell_type": "code",
   "execution_count": 52,
   "metadata": {},
   "outputs": [
    {
     "data": {
      "text/plain": [
       "Text(0.5, 0.98, 'Confusion matrices for predictions within subgroups reweighted  data')"
      ]
     },
     "execution_count": 52,
     "metadata": {},
     "output_type": "execute_result"
    },
    {
     "data": {
      "image/png": "[encoded data removed]",
      "text/plain": [
       "<Figure size 864x432 with 4 Axes>"
      ]
     },
     "metadata": {},
     "output_type": "display_data"
    }
   ],
   "source": [
    "fig, (ax1, ax2) = plt.subplots(nrows=1, ncols=2, figsize=(12, 6), sharex=False)\n",
    "    \n",
    "age_groups = ['Young', 'Old']\n",
    "class_names = ['Good', 'Bad']\n",
    "\n",
    "mapping = {'1': 'Old', '0': 'Young'}\n",
    "\n",
    "for age_group, axis in zip([1, 0], [ax1, ax2]):\n",
    "\n",
    "    tmp_data = Xtest[Xtest['AgeGroups'] == age_group]\n",
    "    disp = plot_confusion_matrix(clf2, x_test[tmp_data.index], \n",
    "                             y_test[tmp_data.index], display_labels=class_names, \n",
    "                             cmap=plt.cm.Blues, \n",
    "                             normalize='all', values_format='.2f', labels=[1, 0], ax=axis)\n",
    "    axis.set_title(mapping[str(age_group)])\n",
    "\n",
    "plt.suptitle('Confusion matrices for predictions within subgroups reweighted  data')"
   ]
  },
  {
   "cell_type": "markdown",
   "metadata": {},
   "source": [
    "### Fairness metric on original data"
   ]
  },
  {
   "cell_type": "code",
   "execution_count": 578,
   "metadata": {},
   "outputs": [
    {
     "data": {
      "text/plain": [
       "-0.16195"
      ]
     },
     "execution_count": 578,
     "metadata": {},
     "output_type": "execute_result"
    }
   ],
   "source": []
  },
  {
   "cell_type": "markdown",
   "metadata": {},
   "source": [
    "### Fairness metric on transformed data"
   ]
  },
  {
   "cell_type": "code",
   "execution_count": 579,
   "metadata": {},
   "outputs": [
    {
     "data": {
      "text/plain": [
       "-0.0"
      ]
     },
     "execution_count": 579,
     "metadata": {},
     "output_type": "execute_result"
    }
   ],
   "source": [
    "\n",
    "metric_transf_train = BinaryLabelDatasetMetric(dataset_transf_train, \n",
    "                                               unprivileged_groups=unprivileged_groups,\n",
    "                                               privileged_groups=privileged_groups)\n",
    "\n",
    "np.round(metric_transf_train.mean_difference(), 5)"
   ]
  },
  {
   "cell_type": "code",
   "execution_count": 679,
   "metadata": {},
   "outputs": [
    {
     "data": {
      "text/html": [
       "<div>\n",
       "<style scoped>\n",
       "    .dataframe tbody tr th:only-of-type {\n",
       "        vertical-align: middle;\n",
       "    }\n",
       "\n",
       "    .dataframe tbody tr th {\n",
       "        vertical-align: top;\n",
       "    }\n",
       "\n",
       "    .dataframe thead th {\n",
       "        text-align: right;\n",
       "    }\n",
       "</style>\n",
       "<table border=\"1\" class=\"dataframe\">\n",
       "  <thead>\n",
       "    <tr style=\"text-align: right;\">\n",
       "      <th></th>\n",
       "      <th>Creditability</th>\n",
       "      <th>Account Balance</th>\n",
       "      <th>Duration of Credit (month)</th>\n",
       "      <th>Payment Status of Previous Credit</th>\n",
       "      <th>Purpose</th>\n",
       "      <th>Credit Amount</th>\n",
       "      <th>Value Savings/Stocks</th>\n",
       "      <th>Length of current employment</th>\n",
       "      <th>Instalment per cent</th>\n",
       "      <th>Sex &amp; Marital Status</th>\n",
       "      <th>...</th>\n",
       "      <th>Duration in Current address</th>\n",
       "      <th>Most valuable available asset</th>\n",
       "      <th>Age (years)</th>\n",
       "      <th>Concurrent Credits</th>\n",
       "      <th>Type of apartment</th>\n",
       "      <th>No of Credits at this Bank</th>\n",
       "      <th>Occupation</th>\n",
       "      <th>No of dependents</th>\n",
       "      <th>Telephone</th>\n",
       "      <th>Foreign Worker</th>\n",
       "    </tr>\n",
       "  </thead>\n",
       "  <tbody>\n",
       "    <tr>\n",
       "      <th>0</th>\n",
       "      <td>1</td>\n",
       "      <td>4</td>\n",
       "      <td>18</td>\n",
       "      <td>4</td>\n",
       "      <td>2</td>\n",
       "      <td>1817</td>\n",
       "      <td>1</td>\n",
       "      <td>3</td>\n",
       "      <td>4</td>\n",
       "      <td>2</td>\n",
       "      <td>...</td>\n",
       "      <td>2</td>\n",
       "      <td>4</td>\n",
       "      <td>28</td>\n",
       "      <td>3</td>\n",
       "      <td>2</td>\n",
       "      <td>2</td>\n",
       "      <td>3</td>\n",
       "      <td>1</td>\n",
       "      <td>1</td>\n",
       "      <td>1</td>\n",
       "    </tr>\n",
       "    <tr>\n",
       "      <th>1</th>\n",
       "      <td>1</td>\n",
       "      <td>4</td>\n",
       "      <td>24</td>\n",
       "      <td>2</td>\n",
       "      <td>3</td>\n",
       "      <td>1278</td>\n",
       "      <td>1</td>\n",
       "      <td>5</td>\n",
       "      <td>4</td>\n",
       "      <td>3</td>\n",
       "      <td>...</td>\n",
       "      <td>1</td>\n",
       "      <td>1</td>\n",
       "      <td>36</td>\n",
       "      <td>3</td>\n",
       "      <td>2</td>\n",
       "      <td>1</td>\n",
       "      <td>4</td>\n",
       "      <td>1</td>\n",
       "      <td>2</td>\n",
       "      <td>1</td>\n",
       "    </tr>\n",
       "    <tr>\n",
       "      <th>2</th>\n",
       "      <td>1</td>\n",
       "      <td>2</td>\n",
       "      <td>12</td>\n",
       "      <td>4</td>\n",
       "      <td>1</td>\n",
       "      <td>1860</td>\n",
       "      <td>1</td>\n",
       "      <td>1</td>\n",
       "      <td>4</td>\n",
       "      <td>3</td>\n",
       "      <td>...</td>\n",
       "      <td>2</td>\n",
       "      <td>3</td>\n",
       "      <td>34</td>\n",
       "      <td>3</td>\n",
       "      <td>2</td>\n",
       "      <td>2</td>\n",
       "      <td>4</td>\n",
       "      <td>1</td>\n",
       "      <td>2</td>\n",
       "      <td>1</td>\n",
       "    </tr>\n",
       "    <tr>\n",
       "      <th>3</th>\n",
       "      <td>1</td>\n",
       "      <td>2</td>\n",
       "      <td>24</td>\n",
       "      <td>3</td>\n",
       "      <td>9</td>\n",
       "      <td>6967</td>\n",
       "      <td>2</td>\n",
       "      <td>4</td>\n",
       "      <td>4</td>\n",
       "      <td>3</td>\n",
       "      <td>...</td>\n",
       "      <td>4</td>\n",
       "      <td>3</td>\n",
       "      <td>36</td>\n",
       "      <td>3</td>\n",
       "      <td>1</td>\n",
       "      <td>1</td>\n",
       "      <td>4</td>\n",
       "      <td>1</td>\n",
       "      <td>2</td>\n",
       "      <td>1</td>\n",
       "    </tr>\n",
       "    <tr>\n",
       "      <th>4</th>\n",
       "      <td>1</td>\n",
       "      <td>3</td>\n",
       "      <td>36</td>\n",
       "      <td>2</td>\n",
       "      <td>3</td>\n",
       "      <td>3919</td>\n",
       "      <td>1</td>\n",
       "      <td>3</td>\n",
       "      <td>2</td>\n",
       "      <td>3</td>\n",
       "      <td>...</td>\n",
       "      <td>2</td>\n",
       "      <td>1</td>\n",
       "      <td>23</td>\n",
       "      <td>3</td>\n",
       "      <td>2</td>\n",
       "      <td>1</td>\n",
       "      <td>3</td>\n",
       "      <td>1</td>\n",
       "      <td>2</td>\n",
       "      <td>1</td>\n",
       "    </tr>\n",
       "  </tbody>\n",
       "</table>\n",
       "<p>5 rows × 21 columns</p>\n",
       "</div>"
      ],
      "text/plain": [
       "   Creditability  Account Balance  Duration of Credit (month)  \\\n",
       "0              1                4                          18   \n",
       "1              1                4                          24   \n",
       "2              1                2                          12   \n",
       "3              1                2                          24   \n",
       "4              1                3                          36   \n",
       "\n",
       "   Payment Status of Previous Credit  Purpose  Credit Amount  \\\n",
       "0                                  4        2           1817   \n",
       "1                                  2        3           1278   \n",
       "2                                  4        1           1860   \n",
       "3                                  3        9           6967   \n",
       "4                                  2        3           3919   \n",
       "\n",
       "   Value Savings/Stocks  Length of current employment  Instalment per cent  \\\n",
       "0                     1                             3                    4   \n",
       "1                     1                             5                    4   \n",
       "2                     1                             1                    4   \n",
       "3                     2                             4                    4   \n",
       "4                     1                             3                    2   \n",
       "\n",
       "   Sex & Marital Status  ...  Duration in Current address  \\\n",
       "0                     2  ...                            2   \n",
       "1                     3  ...                            1   \n",
       "2                     3  ...                            2   \n",
       "3                     3  ...                            4   \n",
       "4                     3  ...                            2   \n",
       "\n",
       "   Most valuable available asset  Age (years)  Concurrent Credits  \\\n",
       "0                              4           28                   3   \n",
       "1                              1           36                   3   \n",
       "2                              3           34                   3   \n",
       "3                              3           36                   3   \n",
       "4                              1           23                   3   \n",
       "\n",
       "   Type of apartment  No of Credits at this Bank  Occupation  \\\n",
       "0                  2                           2           3   \n",
       "1                  2                           1           4   \n",
       "2                  2                           2           4   \n",
       "3                  1                           1           4   \n",
       "4                  2                           1           3   \n",
       "\n",
       "   No of dependents  Telephone  Foreign Worker  \n",
       "0                 1          1               1  \n",
       "1                 1          2               1  \n",
       "2                 1          2               1  \n",
       "3                 1          2               1  \n",
       "4                 1          2               1  \n",
       "\n",
       "[5 rows x 21 columns]"
      ]
     },
     "execution_count": 679,
     "metadata": {},
     "output_type": "execute_result"
    }
   ],
   "source": [
    "X_train = pd.read_csv('german_credit_train.csv', sep=\",\")\n",
    "X_train.head()"
   ]
  },
  {
   "cell_type": "code",
   "execution_count": 680,
   "metadata": {},
   "outputs": [
    {
     "data": {
      "text/plain": [
       "Counter({4: 173, 2: 315, 3: 56, 1: 33, 0: 23})"
      ]
     },
     "execution_count": 680,
     "metadata": {},
     "output_type": "execute_result"
    }
   ],
   "source": [
    "Counter(X_train['Payment Status of Previous Credit'])"
   ]
  },
  {
   "cell_type": "code",
   "execution_count": 681,
   "metadata": {},
   "outputs": [
    {
     "data": {
      "text/plain": [
       "Counter({'NoProblem': 567, 'SomeProblems': 33})"
      ]
     },
     "execution_count": 681,
     "metadata": {},
     "output_type": "execute_result"
    }
   ],
   "source": [
    "Xtrain = pre_process_data(X_train)\n",
    "Counter(Xtrain['Payment Status'])"
   ]
  },
  {
   "cell_type": "code",
   "execution_count": 682,
   "metadata": {},
   "outputs": [
    {
     "data": {
      "text/plain": [
       "Index(['Creditability', 'Account Balance', 'Duration of Credit (month)',\n",
       "       'Payment Status of Previous Credit', 'Purpose', 'Credit Amount',\n",
       "       'Value Savings/Stocks', 'Length of current employment',\n",
       "       'Instalment per cent', 'Sex & Marital Status', 'Guarantors',\n",
       "       'Duration in Current address', 'Most valuable available asset',\n",
       "       'Age (years)', 'Concurrent Credits', 'Type of apartment',\n",
       "       'No of Credits at this Bank', 'Occupation', 'No of dependents',\n",
       "       'Telephone', 'Foreign Worker'],\n",
       "      dtype='object')"
      ]
     },
     "execution_count": 682,
     "metadata": {},
     "output_type": "execute_result"
    }
   ],
   "source": [
    "X_train.columns"
   ]
  },
  {
   "cell_type": "code",
   "execution_count": 691,
   "metadata": {},
   "outputs": [
    {
     "data": {
      "text/plain": [
       "Counter({2: 209, 1: 373, 3: 16, 4: 2})"
      ]
     },
     "execution_count": 691,
     "metadata": {},
     "output_type": "execute_result"
    }
   ],
   "source": [
    "Counter(X_train['No of Credits at this Bank'])"
   ]
  },
  {
   "cell_type": "code",
   "execution_count": 689,
   "metadata": {},
   "outputs": [
    {
     "data": {
      "text/plain": [
       "Counter({'NoCredit': 484, 'OtherBanks': 116})"
      ]
     },
     "execution_count": 689,
     "metadata": {},
     "output_type": "execute_result"
    }
   ],
   "source": [
    "Counter(Xtrain['Concurrent Credits'])"
   ]
  },
  {
   "cell_type": "code",
   "execution_count": 688,
   "metadata": {},
   "outputs": [
    {
     "data": {
      "text/plain": [
       "Index(['Account Balance', 'Payment Status', 'Savings/Stock Value',\n",
       "       'Employment Length', 'Sex & Marital Status', 'NumberCredits',\n",
       "       'Guarantors', 'Concurrent Credits', 'Purpose', 'Age (years)',\n",
       "       'AgeGroups'],\n",
       "      dtype='object')"
      ]
     },
     "execution_count": 688,
     "metadata": {},
     "output_type": "execute_result"
    }
   ],
   "source": [
    "Xtrain.columns"
   ]
  },
  {
   "cell_type": "code",
   "execution_count": 692,
   "metadata": {},
   "outputs": [
    {
     "data": {
      "text/plain": [
       "count    600.000000\n",
       "mean      35.111667\n",
       "std       11.295804\n",
       "min       20.000000\n",
       "25%       27.000000\n",
       "50%       32.000000\n",
       "75%       41.000000\n",
       "max       75.000000\n",
       "Name: Age (years), dtype: float64"
      ]
     },
     "execution_count": 692,
     "metadata": {},
     "output_type": "execute_result"
    }
   ],
   "source": [
    "X_train['Age (years)'].describe()"
   ]
  },
  {
   "cell_type": "code",
   "execution_count": 28,
   "metadata": {},
   "outputs": [
    {
     "data": {
      "image/png": "[encoded data removed]",
      "text/plain": [
       "<Figure size 576x432 with 1 Axes>"
      ]
     },
     "metadata": {
      "needs_background": "light"
     },
     "output_type": "display_data"
    }
   ],
   "source": [
    "X_train = pd.read_csv('german_credit_train.csv', sep=\",\")\n",
    "X_test = pd.read_csv('german_credit_test.csv', sep=\",\")\n",
    "y_train = X_train['Creditability']\n",
    "y_test = X_test['Creditability']\n",
    "\n",
    "Xtrain = pre_process_data(X_train)\n",
    "Xtest = pre_process_data(X_test)\n",
    "Xtrain['AgeGroups'] = ['Young' if x == 'Young' else 'Old' for x in Xtrain['AgeGroups']]\n",
    "Xtest['AgeGroups'] = ['Young' if x == 'Young' else 'Old' for x in Xtest['AgeGroups']]\n",
    "\n",
    "# Remove age group\n",
    "Xtrain = Xtrain.drop(columns=['Age (years)'])\n",
    "Xtest = Xtest.drop(columns=['Age (years)'])\n",
    "Xtrain['Creditability'] = ['Good' if x == 1 \n",
    "                           else 'Bad' for x in y_train]\n",
    "#from process_data import plot_marginal_distribution\n",
    "plot_marginal_distribution(Xtrain, var1='AgeGroups', \n",
    "                           var2='Creditability')"
   ]
  },
  {
   "cell_type": "code",
   "execution_count": 31,
   "metadata": {},
   "outputs": [
    {
     "data": {
      "text/plain": [
       "1812"
      ]
     },
     "execution_count": 31,
     "metadata": {},
     "output_type": "execute_result"
    }
   ],
   "source": [
    "(38512 - 37200) + 500"
   ]
  },
  {
   "cell_type": "code",
   "execution_count": 32,
   "metadata": {},
   "outputs": [
    {
     "data": {
      "text/plain": [
       "2974.2"
      ]
     },
     "execution_count": 32,
     "metadata": {},
     "output_type": "execute_result"
    }
   ],
   "source": [
    "4441.20+33 - 1500"
   ]
  },
  {
   "cell_type": "code",
   "execution_count": 43,
   "metadata": {},
   "outputs": [],
   "source": [
    "from sklearn.metrics import plot_confusion_matrix, confusion_matrix"
   ]
  },
  {
   "cell_type": "code",
   "execution_count": 46,
   "metadata": {},
   "outputs": [
    {
     "data": {
      "text/plain": [
       "'0.23.1'"
      ]
     },
     "execution_count": 46,
     "metadata": {},
     "output_type": "execute_result"
    }
   ],
   "source": [
    "import sklearn\n",
    "sklearn.__version__"
   ]
  },
  {
   "cell_type": "code",
   "execution_count": 48,
   "metadata": {},
   "outputs": [
    {
     "data": {
      "text/plain": [
       "'0.10.0'"
      ]
     },
     "execution_count": 48,
     "metadata": {},
     "output_type": "execute_result"
    }
   ],
   "source": [
    "import statsmodels\n",
    "statsmodels.__version__"
   ]
  },
  {
   "cell_type": "code",
   "execution_count": null,
   "metadata": {},
   "outputs": [],
   "source": [
    "temperature = pd.DataFrame({'day'})"
   ]
  }
 ],
 "metadata": {
  "kernelspec": {
   "display_name": "ds_bootcamp_v2",
   "language": "python",
   "name": "ds_bootcamp_v2"
  },
  "language_info": {
   "codemirror_mode": {
    "name": "ipython",
    "version": 3
   },
   "file_extension": ".py",
   "mimetype": "text/x-python",
   "name": "python",
   "nbconvert_exporter": "python",
   "pygments_lexer": "ipython3",
   "version": "3.7.3"
  }
 },
 "nbformat": 4,
 "nbformat_minor": 2
}
